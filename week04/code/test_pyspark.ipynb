{
 "cells": [
  {
   "cell_type": "code",
   "execution_count": 22,
   "metadata": {},
   "outputs": [],
   "source": [
    "import pyspark\n",
    "from pyspark.sql import SparkSession\n",
    "import pandas as pd\n",
    "from pyspark.sql import types\n",
    "\n"
   ]
  },
  {
   "cell_type": "code",
   "execution_count": 12,
   "metadata": {},
   "outputs": [],
   "source": [
    "spark = SparkSession.builder \\\n",
    "    .master(\"local[*]\") \\\n",
    "    .appName('test') \\\n",
    "    .getOrCreate()"
   ]
  },
  {
   "cell_type": "code",
   "execution_count": 7,
   "metadata": {},
   "outputs": [
    {
     "data": {
      "text/plain": [
       "Row(LocationID='1', Borough='EWR', Zone='Newark Airport', service_zone='EWR')"
      ]
     },
     "execution_count": 7,
     "metadata": {},
     "output_type": "execute_result"
    }
   ],
   "source": [
    "\n",
    "df = spark.read \\\n",
    "    .option(\"header\",\"true\") \\\n",
    "    .csv('../week01/data/taxi+_zone_lookup.csv')\n",
    "\n",
    "df.head()"
   ]
  },
  {
   "cell_type": "code",
   "execution_count": null,
   "metadata": {},
   "outputs": [],
   "source": [
    "!head taxi+_zone_lookup.csv.csv \n",
    "\n"
   ]
  },
  {
   "cell_type": "code",
   "execution_count": 1,
   "metadata": {},
   "outputs": [
    {
     "name": "stdout",
     "output_type": "stream",
     "text": [
      "--2023-04-16 10:51:11--  https://d37ci6vzurychx.cloudfront.net/trip-data/fhv_tripdata_2021-01.parquet\n",
      "Resolving d37ci6vzurychx.cloudfront.net (d37ci6vzurychx.cloudfront.net)... 2600:9000:2123:2e00:b:20a5:b140:21, 2600:9000:2123:3000:b:20a5:b140:21, 2600:9000:2123:f000:b:20a5:b140:21, ...\n",
      "Connecting to d37ci6vzurychx.cloudfront.net (d37ci6vzurychx.cloudfront.net)|2600:9000:2123:2e00:b:20a5:b140:21|:443... connected.\n",
      "HTTP request sent, awaiting response... 200 OK\n",
      "Length: 11886281 (11M) [binary/octet-stream]\n",
      "Saving to: ‘fhv_tripdata_2021-01.parquet’\n",
      "\n",
      "fhv_tripdata_2021-0 100%[===================>]  11,33M  2,86MB/s    in 17s     \n",
      "\n",
      "2023-04-16 10:51:29 (681 KB/s) - ‘fhv_tripdata_2021-01.parquet’ saved [11886281/11886281]\n",
      "\n"
     ]
    }
   ],
   "source": [
    "!wget https://d37ci6vzurychx.cloudfront.net/trip-data/fhv_tripdata_2021-01.parquet"
   ]
  },
  {
   "cell_type": "code",
   "execution_count": 2,
   "metadata": {},
   "outputs": [
    {
     "name": "stdout",
     "output_type": "stream",
     "text": [
      "wc: invalid option -- '1'\n",
      "Try 'wc --help' for more information.\n"
     ]
    }
   ],
   "source": [
    "!wc -1 fhv_tripdata_2021-01.parquet"
   ]
  },
  {
   "cell_type": "code",
   "execution_count": 4,
   "metadata": {},
   "outputs": [
    {
     "name": "stderr",
     "output_type": "stream",
     "text": [
      "                                                                                \r"
     ]
    },
    {
     "name": "stdout",
     "output_type": "stream",
     "text": [
      "+-----------------+--------------------+--------------------+-------------------+-------------------+-------------------+-------------------+------------+------------+----------+---------+-------------------+-----+----+---------+--------------------+-----------+----+----------+-------------------+-----------------+------------------+----------------+--------------+\n",
      "|hvfhs_license_num|dispatching_base_num|originating_base_num|   request_datetime|  on_scene_datetime|    pickup_datetime|   dropoff_datetime|PULocationID|DOLocationID|trip_miles|trip_time|base_passenger_fare|tolls| bcf|sales_tax|congestion_surcharge|airport_fee|tips|driver_pay|shared_request_flag|shared_match_flag|access_a_ride_flag|wav_request_flag|wav_match_flag|\n",
      "+-----------------+--------------------+--------------------+-------------------+-------------------+-------------------+-------------------+------------+------------+----------+---------+-------------------+-----+----+---------+--------------------+-----------+----+----------+-------------------+-----------------+------------------+----------------+--------------+\n",
      "|           HV0003|              B02682|              B02682|2020-12-31 22:28:09|2020-12-31 22:31:42|2020-12-31 22:33:44|2020-12-31 22:49:07|         230|         166|      5.26|      923|              22.28|  0.0|0.67|     1.98|                2.75|       null| 0.0|     14.99|                  N|                N|                  |               N|             N|\n",
      "|           HV0003|              B02682|              B02682|2020-12-31 22:45:56|2020-12-31 22:55:19|2020-12-31 22:55:19|2020-12-31 23:18:21|         152|         167|      3.65|     1382|              18.36|  0.0|0.55|     1.63|                 0.0|       null| 0.0|     17.06|                  N|                N|                  |               N|             N|\n",
      "|           HV0003|              B02764|              B02764|2020-12-31 22:21:15|2020-12-31 22:22:41|2020-12-31 22:23:56|2020-12-31 22:38:05|         233|         142|      3.51|      849|              14.05|  0.0|0.48|     1.25|                2.75|       null|0.94|     12.98|                  N|                N|                  |               N|             N|\n",
      "|           HV0003|              B02764|              B02764|2020-12-31 22:39:12|2020-12-31 22:42:37|2020-12-31 22:42:51|2020-12-31 22:45:50|         142|         143|      0.74|      179|               7.91|  0.0|0.24|      0.7|                2.75|       null| 0.0|      7.41|                  N|                N|                  |               N|             N|\n",
      "|           HV0003|              B02764|              B02764|2020-12-31 22:46:11|2020-12-31 22:47:17|2020-12-31 22:48:14|2020-12-31 23:08:42|         143|          78|       9.2|     1228|              27.11|  0.0|0.81|     2.41|                2.75|       null| 0.0|     22.44|                  N|                N|                  |               N|             N|\n",
      "|           HV0005|              B02510|                null|2020-12-31 22:04:00|               null|2020-12-31 22:06:59|2020-12-31 22:43:01|          88|          42|     9.725|     2162|              28.11|  0.0|0.84|     2.49|                2.75|       null| 0.0|      28.9|                  N|                N|                 N|               N|             N|\n",
      "|           HV0005|              B02510|                null|2020-12-31 22:40:06|               null|2020-12-31 22:50:00|2020-12-31 23:04:57|          42|         151|     2.469|      897|              25.03|  0.0|0.75|     2.22|                 0.0|       null| 0.0|     15.01|                  N|                N|                 N|               N|             N|\n",
      "|           HV0003|              B02764|              B02764|2020-12-31 22:10:36|2020-12-31 22:12:28|2020-12-31 22:14:30|2020-12-31 22:50:27|          71|         226|     13.53|     2157|              29.67|  0.0|1.04|     3.08|                 0.0|       null| 0.0|      34.2|                  N|                N|                  |               N|             N|\n",
      "|           HV0003|              B02875|              B02875|2020-12-31 22:21:17|2020-12-31 22:22:25|2020-12-31 22:22:54|2020-12-31 22:30:20|         112|         255|       1.6|      446|               6.89|  0.0|0.21|     0.61|                 0.0|       null| 0.0|      6.26|                  N|                N|                  |               N|             N|\n",
      "|           HV0003|              B02875|              B02875|2020-12-31 22:36:57|2020-12-31 22:38:09|2020-12-31 22:40:12|2020-12-31 22:53:31|         255|         232|       3.2|      800|              11.51|  0.0|0.53|     1.03|                2.75|       null|2.82|     10.99|                  N|                N|                  |               N|             N|\n",
      "|           HV0003|              B02875|              B02875|2020-12-31 22:53:31|2020-12-31 22:56:21|2020-12-31 22:56:45|2020-12-31 23:17:42|         232|         198|      5.74|     1257|              17.18|  0.0|0.52|     1.52|                2.75|       null| 0.0|     17.61|                  N|                N|                  |               N|             N|\n",
      "|           HV0003|              B02835|              B02835|2020-12-31 22:22:58|2020-12-31 22:27:01|2020-12-31 22:29:04|2020-12-31 22:36:27|         113|          48|       1.8|      443|               8.18|  0.0|0.25|     0.73|                2.75|       null| 0.0|      6.12|                  N|                N|                  |               N|             N|\n",
      "|           HV0003|              B02835|              B02835|2020-12-31 22:46:44|2020-12-31 22:47:49|2020-12-31 22:48:56|2020-12-31 22:59:12|         239|          75|       2.9|      616|               13.1|  0.0|0.45|     1.17|                2.75|       null|0.94|      8.77|                  N|                N|                  |               N|             N|\n",
      "|           HV0004|              B02800|                null|2020-12-31 22:12:50|               null|2020-12-31 22:15:24|2020-12-31 22:38:31|         181|         237|      9.66|     1387|              32.95|  0.0| 0.0|     2.34|                2.75|       null| 0.0|      21.1|                  N|                N|                 N|               N|             N|\n",
      "|           HV0004|              B02800|                null|2020-12-31 22:35:32|               null|2020-12-31 22:45:00|2020-12-31 23:06:45|         236|          68|      4.38|     1305|              22.91|  0.0| 0.0|     1.63|                2.75|       null|3.43|     15.82|                  N|                N|                 N|               N|             N|\n",
      "|           HV0003|              B02682|              B02682|2020-12-31 22:10:22|2020-12-31 22:11:03|2020-12-31 22:11:53|2020-12-31 22:18:06|         256|         148|      2.03|      373|               7.84|  0.0|0.42|      0.7|                2.75|       null|2.82|      6.93|                  N|                N|                  |               N|             N|\n",
      "|           HV0003|              B02682|              B02682|2020-12-31 22:25:00|2020-12-31 22:26:31|2020-12-31 22:28:31|2020-12-31 22:41:40|          79|          80|      3.08|      789|               13.2|  0.0| 0.4|     1.17|                2.75|       null| 0.0|     11.54|                  N|                N|                  |               N|             N|\n",
      "|           HV0003|              B02682|              B02682|2020-12-31 22:44:56|2020-12-31 22:49:55|2020-12-31 22:50:49|2020-12-31 22:55:59|          17|         217|      1.17|      310|               7.91|  0.0|0.24|      0.7|                 0.0|       null| 0.0|      6.94|                  N|                N|                  |               N|             N|\n",
      "|           HV0005|              B02510|                null|2020-12-31 22:05:04|               null|2020-12-31 22:08:40|2020-12-31 22:39:39|          62|          29|    10.852|     1859|              31.18|  0.0|0.94|     2.77|                 0.0|       null| 0.0|     27.61|                  N|                N|                 N|               N|             N|\n",
      "|           HV0003|              B02836|              B02836|2020-12-31 22:40:44|2020-12-31 22:53:34|2020-12-31 22:53:48|2020-12-31 23:11:40|          22|          22|      3.52|     1072|              28.67|  0.0|0.86|     2.54|                 0.0|       null| 0.0|     17.64|                  N|                N|                  |               N|             N|\n",
      "+-----------------+--------------------+--------------------+-------------------+-------------------+-------------------+-------------------+------------+------------+----------+---------+-------------------+-----+----+---------+--------------------+-----------+----+----------+-------------------+-----------------+------------------+----------------+--------------+\n",
      "only showing top 20 rows\n",
      "\n"
     ]
    }
   ],
   "source": [
    "df = spark.read \\\n",
    "    .option(\"header\",\"true\") \\\n",
    "    .parquet('../data/fhvhv_tripdata_2021-01.parquet')\n",
    "\n",
    "df.show()"
   ]
  },
  {
   "cell_type": "code",
   "execution_count": 16,
   "metadata": {},
   "outputs": [
    {
     "data": {
      "text/plain": [
       "StructType([StructField('hvfhs_license_num', StringType(), True), StructField('dispatching_base_num', StringType(), True), StructField('originating_base_num', StringType(), True), StructField('request_datetime', TimestampType(), True), StructField('on_scene_datetime', TimestampType(), True), StructField('pickup_datetime', TimestampType(), True), StructField('dropoff_datetime', TimestampType(), True), StructField('PULocationID', LongType(), True), StructField('DOLocationID', LongType(), True), StructField('trip_miles', DoubleType(), True), StructField('trip_time', LongType(), True), StructField('base_passenger_fare', DoubleType(), True), StructField('tolls', DoubleType(), True), StructField('bcf', DoubleType(), True), StructField('sales_tax', DoubleType(), True), StructField('congestion_surcharge', DoubleType(), True), StructField('airport_fee', DoubleType(), True), StructField('tips', DoubleType(), True), StructField('driver_pay', DoubleType(), True), StructField('shared_request_flag', StringType(), True), StructField('shared_match_flag', StringType(), True), StructField('access_a_ride_flag', StringType(), True), StructField('wav_request_flag', StringType(), True), StructField('wav_match_flag', StringType(), True)])"
      ]
     },
     "execution_count": 16,
     "metadata": {},
     "output_type": "execute_result"
    }
   ],
   "source": [
    "df.schema"
   ]
  },
  {
   "cell_type": "code",
   "execution_count": 8,
   "metadata": {},
   "outputs": [],
   "source": [
    "import pyarrow as pa\n",
    "import pyarrow.dataset as ds"
   ]
  },
  {
   "cell_type": "code",
   "execution_count": 6,
   "metadata": {},
   "outputs": [
    {
     "name": "stderr",
     "output_type": "stream",
     "text": [
      "                                                                                \r"
     ]
    }
   ],
   "source": [
    "df_pandas = df.limit(100).toPandas()"
   ]
  },
  {
   "cell_type": "code",
   "execution_count": 7,
   "metadata": {},
   "outputs": [
    {
     "data": {
      "text/html": [
       "<div>\n",
       "<style scoped>\n",
       "    .dataframe tbody tr th:only-of-type {\n",
       "        vertical-align: middle;\n",
       "    }\n",
       "\n",
       "    .dataframe tbody tr th {\n",
       "        vertical-align: top;\n",
       "    }\n",
       "\n",
       "    .dataframe thead th {\n",
       "        text-align: right;\n",
       "    }\n",
       "</style>\n",
       "<table border=\"1\" class=\"dataframe\">\n",
       "  <thead>\n",
       "    <tr style=\"text-align: right;\">\n",
       "      <th></th>\n",
       "      <th>hvfhs_license_num</th>\n",
       "      <th>dispatching_base_num</th>\n",
       "      <th>originating_base_num</th>\n",
       "      <th>request_datetime</th>\n",
       "      <th>on_scene_datetime</th>\n",
       "      <th>pickup_datetime</th>\n",
       "      <th>dropoff_datetime</th>\n",
       "      <th>PULocationID</th>\n",
       "      <th>DOLocationID</th>\n",
       "      <th>trip_miles</th>\n",
       "      <th>...</th>\n",
       "      <th>sales_tax</th>\n",
       "      <th>congestion_surcharge</th>\n",
       "      <th>airport_fee</th>\n",
       "      <th>tips</th>\n",
       "      <th>driver_pay</th>\n",
       "      <th>shared_request_flag</th>\n",
       "      <th>shared_match_flag</th>\n",
       "      <th>access_a_ride_flag</th>\n",
       "      <th>wav_request_flag</th>\n",
       "      <th>wav_match_flag</th>\n",
       "    </tr>\n",
       "  </thead>\n",
       "  <tbody>\n",
       "    <tr>\n",
       "      <th>0</th>\n",
       "      <td>HV0003</td>\n",
       "      <td>B02682</td>\n",
       "      <td>B02682</td>\n",
       "      <td>2020-12-31 21:28:09</td>\n",
       "      <td>2020-12-31 21:31:42</td>\n",
       "      <td>2020-12-31 21:33:44</td>\n",
       "      <td>2020-12-31 21:49:07</td>\n",
       "      <td>230</td>\n",
       "      <td>166</td>\n",
       "      <td>5.26</td>\n",
       "      <td>...</td>\n",
       "      <td>1.98</td>\n",
       "      <td>2.75</td>\n",
       "      <td>NaN</td>\n",
       "      <td>0.00</td>\n",
       "      <td>14.99</td>\n",
       "      <td>N</td>\n",
       "      <td>N</td>\n",
       "      <td></td>\n",
       "      <td>N</td>\n",
       "      <td>N</td>\n",
       "    </tr>\n",
       "    <tr>\n",
       "      <th>1</th>\n",
       "      <td>HV0003</td>\n",
       "      <td>B02682</td>\n",
       "      <td>B02682</td>\n",
       "      <td>2020-12-31 21:45:56</td>\n",
       "      <td>2020-12-31 21:55:19</td>\n",
       "      <td>2020-12-31 21:55:19</td>\n",
       "      <td>2020-12-31 22:18:21</td>\n",
       "      <td>152</td>\n",
       "      <td>167</td>\n",
       "      <td>3.65</td>\n",
       "      <td>...</td>\n",
       "      <td>1.63</td>\n",
       "      <td>0.00</td>\n",
       "      <td>NaN</td>\n",
       "      <td>0.00</td>\n",
       "      <td>17.06</td>\n",
       "      <td>N</td>\n",
       "      <td>N</td>\n",
       "      <td></td>\n",
       "      <td>N</td>\n",
       "      <td>N</td>\n",
       "    </tr>\n",
       "    <tr>\n",
       "      <th>2</th>\n",
       "      <td>HV0003</td>\n",
       "      <td>B02764</td>\n",
       "      <td>B02764</td>\n",
       "      <td>2020-12-31 21:21:15</td>\n",
       "      <td>2020-12-31 21:22:41</td>\n",
       "      <td>2020-12-31 21:23:56</td>\n",
       "      <td>2020-12-31 21:38:05</td>\n",
       "      <td>233</td>\n",
       "      <td>142</td>\n",
       "      <td>3.51</td>\n",
       "      <td>...</td>\n",
       "      <td>1.25</td>\n",
       "      <td>2.75</td>\n",
       "      <td>NaN</td>\n",
       "      <td>0.94</td>\n",
       "      <td>12.98</td>\n",
       "      <td>N</td>\n",
       "      <td>N</td>\n",
       "      <td></td>\n",
       "      <td>N</td>\n",
       "      <td>N</td>\n",
       "    </tr>\n",
       "    <tr>\n",
       "      <th>3</th>\n",
       "      <td>HV0003</td>\n",
       "      <td>B02764</td>\n",
       "      <td>B02764</td>\n",
       "      <td>2020-12-31 21:39:12</td>\n",
       "      <td>2020-12-31 21:42:37</td>\n",
       "      <td>2020-12-31 21:42:51</td>\n",
       "      <td>2020-12-31 21:45:50</td>\n",
       "      <td>142</td>\n",
       "      <td>143</td>\n",
       "      <td>0.74</td>\n",
       "      <td>...</td>\n",
       "      <td>0.70</td>\n",
       "      <td>2.75</td>\n",
       "      <td>NaN</td>\n",
       "      <td>0.00</td>\n",
       "      <td>7.41</td>\n",
       "      <td>N</td>\n",
       "      <td>N</td>\n",
       "      <td></td>\n",
       "      <td>N</td>\n",
       "      <td>N</td>\n",
       "    </tr>\n",
       "    <tr>\n",
       "      <th>4</th>\n",
       "      <td>HV0003</td>\n",
       "      <td>B02764</td>\n",
       "      <td>B02764</td>\n",
       "      <td>2020-12-31 21:46:11</td>\n",
       "      <td>2020-12-31 21:47:17</td>\n",
       "      <td>2020-12-31 21:48:14</td>\n",
       "      <td>2020-12-31 22:08:42</td>\n",
       "      <td>143</td>\n",
       "      <td>78</td>\n",
       "      <td>9.20</td>\n",
       "      <td>...</td>\n",
       "      <td>2.41</td>\n",
       "      <td>2.75</td>\n",
       "      <td>NaN</td>\n",
       "      <td>0.00</td>\n",
       "      <td>22.44</td>\n",
       "      <td>N</td>\n",
       "      <td>N</td>\n",
       "      <td></td>\n",
       "      <td>N</td>\n",
       "      <td>N</td>\n",
       "    </tr>\n",
       "  </tbody>\n",
       "</table>\n",
       "<p>5 rows × 24 columns</p>\n",
       "</div>"
      ],
      "text/plain": [
       "  hvfhs_license_num dispatching_base_num originating_base_num  \\\n",
       "0            HV0003               B02682               B02682   \n",
       "1            HV0003               B02682               B02682   \n",
       "2            HV0003               B02764               B02764   \n",
       "3            HV0003               B02764               B02764   \n",
       "4            HV0003               B02764               B02764   \n",
       "\n",
       "     request_datetime   on_scene_datetime     pickup_datetime  \\\n",
       "0 2020-12-31 21:28:09 2020-12-31 21:31:42 2020-12-31 21:33:44   \n",
       "1 2020-12-31 21:45:56 2020-12-31 21:55:19 2020-12-31 21:55:19   \n",
       "2 2020-12-31 21:21:15 2020-12-31 21:22:41 2020-12-31 21:23:56   \n",
       "3 2020-12-31 21:39:12 2020-12-31 21:42:37 2020-12-31 21:42:51   \n",
       "4 2020-12-31 21:46:11 2020-12-31 21:47:17 2020-12-31 21:48:14   \n",
       "\n",
       "     dropoff_datetime  PULocationID  DOLocationID  trip_miles  ...  sales_tax  \\\n",
       "0 2020-12-31 21:49:07           230           166        5.26  ...       1.98   \n",
       "1 2020-12-31 22:18:21           152           167        3.65  ...       1.63   \n",
       "2 2020-12-31 21:38:05           233           142        3.51  ...       1.25   \n",
       "3 2020-12-31 21:45:50           142           143        0.74  ...       0.70   \n",
       "4 2020-12-31 22:08:42           143            78        9.20  ...       2.41   \n",
       "\n",
       "   congestion_surcharge  airport_fee  tips  driver_pay  shared_request_flag  \\\n",
       "0                  2.75          NaN  0.00       14.99                    N   \n",
       "1                  0.00          NaN  0.00       17.06                    N   \n",
       "2                  2.75          NaN  0.94       12.98                    N   \n",
       "3                  2.75          NaN  0.00        7.41                    N   \n",
       "4                  2.75          NaN  0.00       22.44                    N   \n",
       "\n",
       "   shared_match_flag  access_a_ride_flag  wav_request_flag wav_match_flag  \n",
       "0                  N                                     N              N  \n",
       "1                  N                                     N              N  \n",
       "2                  N                                     N              N  \n",
       "3                  N                                     N              N  \n",
       "4                  N                                     N              N  \n",
       "\n",
       "[5 rows x 24 columns]"
      ]
     },
     "execution_count": 7,
     "metadata": {},
     "output_type": "execute_result"
    }
   ],
   "source": [
    "df_pandas.head()"
   ]
  },
  {
   "cell_type": "code",
   "execution_count": 8,
   "metadata": {},
   "outputs": [
    {
     "data": {
      "text/plain": [
       "hvfhs_license_num               object\n",
       "dispatching_base_num            object\n",
       "originating_base_num            object\n",
       "request_datetime        datetime64[ns]\n",
       "on_scene_datetime       datetime64[ns]\n",
       "pickup_datetime         datetime64[ns]\n",
       "dropoff_datetime        datetime64[ns]\n",
       "PULocationID                     int64\n",
       "DOLocationID                     int64\n",
       "trip_miles                     float64\n",
       "trip_time                        int64\n",
       "base_passenger_fare            float64\n",
       "tolls                          float64\n",
       "bcf                            float64\n",
       "sales_tax                      float64\n",
       "congestion_surcharge           float64\n",
       "airport_fee                    float64\n",
       "tips                           float64\n",
       "driver_pay                     float64\n",
       "shared_request_flag             object\n",
       "shared_match_flag               object\n",
       "access_a_ride_flag              object\n",
       "wav_request_flag                object\n",
       "wav_match_flag                  object\n",
       "dtype: object"
      ]
     },
     "execution_count": 8,
     "metadata": {},
     "output_type": "execute_result"
    }
   ],
   "source": [
    "df_pandas.dtypes"
   ]
  },
  {
   "cell_type": "code",
   "execution_count": 34,
   "metadata": {},
   "outputs": [
    {
     "name": "stdout",
     "output_type": "stream",
     "text": [
      "+--------------------+-------------------+-------------------+------------+------------+-------+----------------------+\n",
      "|dispatching_base_num|    pickup_datetime|   dropOff_datetime|PUlocationID|DOlocationID|SR_Flag|Affiliated_base_number|\n",
      "+--------------------+-------------------+-------------------+------------+------------+-------+----------------------+\n",
      "|              B00009|2020-12-31 22:27:00|2020-12-31 22:44:00|        null|        null|   null|                B00009|\n",
      "|              B00009|2020-12-31 22:50:00|2020-12-31 23:07:00|        null|        null|   null|                B00009|\n",
      "|              B00013|2020-12-31 22:01:00|2020-12-31 23:51:00|        null|        null|   null|                B00013|\n",
      "|              B00037|2020-12-31 22:13:09|2020-12-31 22:21:26|        null|        72.0|   null|                B00037|\n",
      "|              B00037|2020-12-31 22:38:31|2020-12-31 22:53:44|        null|        61.0|   null|                B00037|\n",
      "|              B00037|2020-12-31 22:59:02|2020-12-31 23:08:05|        null|        71.0|   null|                B00037|\n",
      "|              B00037|2020-12-31 22:18:12|2020-12-31 22:30:04|        null|        91.0|   null|                B00037|\n",
      "|              B00037|2020-12-31 22:36:15|2020-12-31 22:45:08|        null|        39.0|   null|                B00037|\n",
      "|              B00037|2020-12-31 22:55:04|2020-12-31 23:13:02|        null|        37.0|   null|                B00037|\n",
      "|              B00037|2020-12-31 22:48:40|2020-12-31 23:12:02|        null|        39.0|   null|                B00037|\n",
      "|              B00037|2020-12-31 22:27:23|2020-12-31 22:29:25|        null|        72.0|   null|                B00037|\n",
      "|              B00037|2020-12-31 22:39:07|2020-12-31 22:43:26|        null|        72.0|   null|                B00037|\n",
      "|              B00037|2020-12-31 22:55:57|2020-12-31 23:10:08|        null|        89.0|   null|                B00037|\n",
      "|              B00095|2020-12-31 22:17:54|2020-12-31 22:20:57|        null|       177.0|   null|                B00095|\n",
      "|              B00095|2020-12-31 22:31:59|2020-12-31 22:42:41|        null|       225.0|   null|                B00095|\n",
      "|              B00095|2020-12-31 22:46:23|2020-12-31 22:57:33|        null|        63.0|   null|                B00095|\n",
      "|              B00111|2020-12-31 22:40:00|2020-12-31 23:41:00|        null|        null|   null|                B03234|\n",
      "|              B00112|2020-12-31 22:21:10|2020-12-31 22:42:42|        null|        67.0|   null|                B00112|\n",
      "|              B00112|2020-12-31 22:53:10|2020-12-31 23:03:24|        null|        22.0|   null|                B00112|\n",
      "|              B00112|2020-12-31 22:28:12|2020-12-31 22:28:18|        null|        14.0|   null|                B00112|\n",
      "+--------------------+-------------------+-------------------+------------+------------+-------+----------------------+\n",
      "only showing top 20 rows\n",
      "\n"
     ]
    }
   ],
   "source": [
    "df = spark.read \\\n",
    "    .option(\"header\",\"true\") \\\n",
    "    .parquet('../data/fhv_tripdata_2021-01.parquet')\n",
    "\n",
    "df.show()"
   ]
  },
  {
   "cell_type": "code",
   "execution_count": 35,
   "metadata": {},
   "outputs": [
    {
     "name": "stderr",
     "output_type": "stream",
     "text": [
      "                                                                                \r"
     ]
    }
   ],
   "source": [
    "df.write.option(\"header\",\"true\") \\\n",
    ".csv('../data/fhv_tripdata_2021-01.csv')"
   ]
  },
  {
   "cell_type": "code",
   "execution_count": 18,
   "metadata": {},
   "outputs": [],
   "source": [
    "df_pandas = df.limit(100).toPandas()"
   ]
  },
  {
   "cell_type": "code",
   "execution_count": 20,
   "metadata": {},
   "outputs": [
    {
     "name": "stdout",
     "output_type": "stream",
     "text": [
      "<class 'pandas.core.frame.DataFrame'>\n",
      "RangeIndex: 100 entries, 0 to 99\n",
      "Data columns (total 7 columns):\n",
      " #   Column                  Non-Null Count  Dtype         \n",
      "---  ------                  --------------  -----         \n",
      " 0   dispatching_base_num    100 non-null    object        \n",
      " 1   pickup_datetime         100 non-null    datetime64[ns]\n",
      " 2   dropOff_datetime        100 non-null    datetime64[ns]\n",
      " 3   PUlocationID            9 non-null      float64       \n",
      " 4   DOlocationID            84 non-null     float64       \n",
      " 5   SR_Flag                 0 non-null      float64       \n",
      " 6   Affiliated_base_number  100 non-null    object        \n",
      "dtypes: datetime64[ns](2), float64(3), object(2)\n",
      "memory usage: 5.6+ KB\n"
     ]
    }
   ],
   "source": [
    "df_pandas.info()"
   ]
  },
  {
   "cell_type": "code",
   "execution_count": 36,
   "metadata": {},
   "outputs": [],
   "source": [
    "schema = types.StructType([\n",
    "    types.StructField('hvfhs_license_num', types.StringType(), True),\n",
    "    types.StructField('dispatching_base_num', types.StringType(), True),\n",
    "    types.StructField('pickup_datetime', types.TimestampType(), True),\n",
    "    types.StructField('dropoff_datetime', types.TimestampType(), True),\n",
    "    types.StructField('PULocationID', types.IntegerType(), True),\n",
    "    types.StructField('DOLocationID', types.IntegerType(), True),\n",
    "    types.StructField('SR_Flag', types.StringType(), True)\n",
    "])\n",
    "\n"
   ]
  },
  {
   "cell_type": "code",
   "execution_count": 40,
   "metadata": {},
   "outputs": [],
   "source": [
    "df_csv =spark.read\\\n",
    "    .option('header','true') \\\n",
    "    .schema(schema) \\\n",
    "    .csv('../data/fhv_tripdata_2021-01.csv')"
   ]
  },
  {
   "cell_type": "code",
   "execution_count": 39,
   "metadata": {},
   "outputs": [
    {
     "name": "stdout",
     "output_type": "stream",
     "text": [
      "23/04/16 16:09:00 WARN CSVHeaderChecker: CSV header does not conform to the schema.\n",
      " Header: dispatching_base_num, pickup_datetime, dropOff_datetime, PUlocationID, DOlocationID, SR_Flag, Affiliated_base_number\n",
      " Schema: hvfhs_license_num, dispatching_base_num, pickup_datetime, dropoff_datetime, PULocationID, DOLocationID, SR_Flag\n",
      "Expected: hvfhs_license_num but found: dispatching_base_num\n",
      "CSV file: file:///home/leticia/Documents/data_engineering_zoocamp/week04/data/fhv_tripdata_2021-01.csv/part-00001-2fcd3c34-b85b-4e54-acac-a0754b31acfb-c000.csv\n"
     ]
    },
    {
     "data": {
      "text/plain": [
       "Row(hvfhs_license_num='B00009', dispatching_base_num='2020-12-31T22:27:00.000-02:00', pickup_datetime=datetime.datetime(2020, 12, 31, 21, 44), dropoff_datetime=None, PULocationID=None, DOLocationID=None, SR_Flag='B00009')"
      ]
     },
     "execution_count": 39,
     "metadata": {},
     "output_type": "execute_result"
    }
   ],
   "source": [
    "df_csv.head()"
   ]
  },
  {
   "cell_type": "code",
   "execution_count": 41,
   "metadata": {},
   "outputs": [],
   "source": [
    "df_csv = df_csv.repartition(24)"
   ]
  },
  {
   "cell_type": "code",
   "execution_count": 42,
   "metadata": {},
   "outputs": [
    {
     "name": "stdout",
     "output_type": "stream",
     "text": [
      "23/04/16 16:10:25 WARN CSVHeaderChecker: CSV header does not conform to the schema.\n",
      " Header: dispatching_base_num, pickup_datetime, dropOff_datetime, PUlocationID, DOlocationID, SR_Flag, Affiliated_base_number\n",
      " Schema: hvfhs_license_num, dispatching_base_num, pickup_datetime, dropoff_datetime, PULocationID, DOLocationID, SR_Flag\n",
      "Expected: hvfhs_license_num but found: dispatching_base_num\n",
      "CSV file: file:///home/leticia/Documents/data_engineering_zoocamp/week04/data/fhv_tripdata_2021-01.csv/part-00001-2fcd3c34-b85b-4e54-acac-a0754b31acfb-c000.csv\n"
     ]
    },
    {
     "name": "stderr",
     "output_type": "stream",
     "text": [
      "[Stage 33:>                                                         (0 + 8) / 8]\r"
     ]
    },
    {
     "name": "stdout",
     "output_type": "stream",
     "text": [
      "23/04/16 16:10:30 WARN CSVHeaderChecker: CSV header does not conform to the schema.\n",
      " Header: dispatching_base_num, pickup_datetime, dropOff_datetime, PUlocationID, DOlocationID, SR_Flag, Affiliated_base_number\n",
      " Schema: hvfhs_license_num, dispatching_base_num, pickup_datetime, dropoff_datetime, PULocationID, DOLocationID, SR_Flag\n",
      "Expected: hvfhs_license_num but found: dispatching_base_num\n",
      "CSV file: file:///home/leticia/Documents/data_engineering_zoocamp/week04/data/fhv_tripdata_2021-01.csv/part-00000-2fcd3c34-b85b-4e54-acac-a0754b31acfb-c000.csv\n"
     ]
    },
    {
     "name": "stderr",
     "output_type": "stream",
     "text": [
      "[Stage 33:==================================================>       (7 + 1) / 8]\r"
     ]
    },
    {
     "name": "stdout",
     "output_type": "stream",
     "text": [
      "23/04/16 16:10:36 WARN MemoryManager: Total allocation exceeds 95,00% (1.020.054.720 bytes) of heap memory\n",
      "Scaling row group sizes to 95,00% for 8 writers\n"
     ]
    },
    {
     "name": "stderr",
     "output_type": "stream",
     "text": [
      "[Stage 35:===================>                                     (8 + 8) / 24]\r"
     ]
    },
    {
     "name": "stdout",
     "output_type": "stream",
     "text": [
      "23/04/16 16:10:38 WARN MemoryManager: Total allocation exceeds 95,00% (1.020.054.720 bytes) of heap memory\n",
      "Scaling row group sizes to 95,00% for 8 writers\n"
     ]
    },
    {
     "name": "stderr",
     "output_type": "stream",
     "text": [
      "[Stage 35:=====================================>                  (16 + 8) / 24]\r"
     ]
    },
    {
     "name": "stdout",
     "output_type": "stream",
     "text": [
      "23/04/16 16:10:39 WARN MemoryManager: Total allocation exceeds 95,00% (1.020.054.720 bytes) of heap memory\n",
      "Scaling row group sizes to 95,00% for 8 writers\n"
     ]
    },
    {
     "name": "stderr",
     "output_type": "stream",
     "text": [
      "                                                                                \r"
     ]
    }
   ],
   "source": [
    "df_csv.write.parquet('../data/fhvhv/2021/01')"
   ]
  },
  {
   "cell_type": "code",
   "execution_count": 43,
   "metadata": {},
   "outputs": [],
   "source": [
    "df_csv = spark.read.parquet('../data/fhvhv/2021/01')"
   ]
  },
  {
   "cell_type": "code",
   "execution_count": 46,
   "metadata": {},
   "outputs": [
    {
     "name": "stdout",
     "output_type": "stream",
     "text": [
      "+-----------------+--------------------+-------------------+----------------+------------+------------+-------+\n",
      "|hvfhs_license_num|dispatching_base_num|    pickup_datetime|dropoff_datetime|PULocationID|DOLocationID|SR_Flag|\n",
      "+-----------------+--------------------+-------------------+----------------+------------+------------+-------+\n",
      "|           B00350|2021-01-01T14:22:...|2021-01-01 14:37:43|            null|        null|        null| B03085|\n",
      "|           B01536|2021-01-02T06:06:...|2021-01-02 06:18:33|            null|        null|        null| B01536|\n",
      "|           B03028|2021-01-04T13:27:...|2021-01-04 13:32:51|            null|        null|        null| B03028|\n",
      "|           B03268|2021-01-03T07:42:...|2021-01-03 08:36:14|            null|        null|        null| B03268|\n",
      "|           B01312|2021-01-03T03:32:...|2021-01-03 03:34:12|            null|        null|        null| B02867|\n",
      "|           B01282|2021-01-05T09:12:...|2021-01-05 09:20:08|            null|        null|        null| B01282|\n",
      "|           B01061|2021-01-04T18:40:...|2021-01-04 18:42:23|            null|        null|        null| B01061|\n",
      "|           B01710|2021-01-05T09:08:...|2021-01-05 09:11:09|            null|        null|        null| B01710|\n",
      "|           B01065|2021-01-04T13:37:...|2021-01-04 13:46:08|            null|        null|        null| B01065|\n",
      "|           B01231|2021-01-04T19:50:...|2021-01-04 20:00:55|            null|        null|        null| B01231|\n",
      "|           B01437|2021-01-02T12:43:...|2021-01-02 12:50:55|            null|        null|        null| B02682|\n",
      "|           B01455|2021-01-05T19:10:...|2021-01-05 19:14:18|            null|        null|        null| B01455|\n",
      "|           B02902|2021-01-01T05:22:...|2021-01-01 05:52:42|            null|        null|        null| B02882|\n",
      "|           B01129|2021-01-04T06:09:...|2021-01-04 06:35:00|            null|        null|        null| B01129|\n",
      "|           B00412|2021-01-05T07:58:...|2021-01-05 08:07:05|            null|        null|        null| B03056|\n",
      "|           B02111|2021-01-01T14:31:...|2021-01-01 14:31:42|            null|        null|        null| B02111|\n",
      "|           B03162|2021-01-05T07:30:...|2021-01-05 08:09:09|            null|        null|        null| B03162|\n",
      "|           B01083|2021-01-05T06:02:...|2021-01-05 06:34:07|            null|        null|        null| B01083|\n",
      "|           B00706|2021-01-01T13:00:...|2021-01-01 13:04:26|            null|        null|        null| B00706|\n",
      "|           B01536|2021-01-02T13:19:...|2021-01-02 13:37:09|            null|        null|        null| B01536|\n",
      "+-----------------+--------------------+-------------------+----------------+------------+------------+-------+\n",
      "only showing top 20 rows\n",
      "\n"
     ]
    }
   ],
   "source": [
    "df_csv.show()\n"
   ]
  },
  {
   "cell_type": "code",
   "execution_count": 44,
   "metadata": {},
   "outputs": [
    {
     "name": "stdout",
     "output_type": "stream",
     "text": [
      "root\n",
      " |-- hvfhs_license_num: string (nullable = true)\n",
      " |-- dispatching_base_num: string (nullable = true)\n",
      " |-- pickup_datetime: timestamp (nullable = true)\n",
      " |-- dropoff_datetime: timestamp (nullable = true)\n",
      " |-- PULocationID: integer (nullable = true)\n",
      " |-- DOLocationID: integer (nullable = true)\n",
      " |-- SR_Flag: string (nullable = true)\n",
      "\n"
     ]
    }
   ],
   "source": [
    "df_csv.printSchema()"
   ]
  },
  {
   "cell_type": "code",
   "execution_count": 47,
   "metadata": {},
   "outputs": [
    {
     "name": "stdout",
     "output_type": "stream",
     "text": [
      "+-------------------+----------------+\n",
      "|    pickup_datetime|dropoff_datetime|\n",
      "+-------------------+----------------+\n",
      "|2021-01-01 14:37:43|            null|\n",
      "|2021-01-05 14:49:01|            null|\n",
      "|2021-01-01 15:09:03|            null|\n",
      "|2021-01-02 05:30:37|            null|\n",
      "|2021-01-05 15:00:58|            null|\n",
      "|2021-01-02 17:47:17|            null|\n",
      "|2021-01-01 15:28:29|            null|\n",
      "|2021-01-01 05:29:46|            null|\n",
      "|2021-01-03 10:31:56|            null|\n",
      "|2021-01-02 11:06:30|            null|\n",
      "|2021-01-05 05:28:14|            null|\n",
      "|2021-01-01 08:36:18|            null|\n",
      "|2021-01-02 06:29:35|            null|\n",
      "|2021-01-03 03:25:25|            null|\n",
      "|2021-01-04 07:45:01|            null|\n",
      "|2021-01-08 07:43:03|            null|\n",
      "|2021-01-06 14:21:19|            null|\n",
      "|2021-01-06 07:51:54|            null|\n",
      "|2021-01-08 09:56:56|            null|\n",
      "|2021-01-09 19:40:31|            null|\n",
      "+-------------------+----------------+\n",
      "only showing top 20 rows\n",
      "\n"
     ]
    }
   ],
   "source": [
    "df_csv.select('pickup_datetime','dropoff_datetime').filter(df_csv.hvfhs_license_num =='B00350').show()"
   ]
  },
  {
   "cell_type": "code",
   "execution_count": null,
   "metadata": {},
   "outputs": [],
   "source": []
  }
 ],
 "metadata": {
  "kernelspec": {
   "display_name": "base",
   "language": "python",
   "name": "python3"
  },
  "language_info": {
   "codemirror_mode": {
    "name": "ipython",
    "version": 3
   },
   "file_extension": ".py",
   "mimetype": "text/x-python",
   "name": "python",
   "nbconvert_exporter": "python",
   "pygments_lexer": "ipython3",
   "version": "3.9.13 (main, Aug 25 2022, 23:26:10) \n[GCC 11.2.0]"
  },
  "orig_nbformat": 4,
  "vscode": {
   "interpreter": {
    "hash": "2934e589920b33be9a0fb6881013f99d5fdebf9a5ee205ae868ffa47b5fbbf91"
   }
  }
 },
 "nbformat": 4,
 "nbformat_minor": 2
}
