{
 "cells": [
  {
   "cell_type": "code",
   "execution_count": null,
   "metadata": {},
   "outputs": [],
   "source": [
    "import pandas as pd"
   ]
  },
  {
   "cell_type": "code",
   "execution_count": null,
   "metadata": {},
   "outputs": [],
   "source": []
  },
  {
   "cell_type": "code",
   "execution_count": null,
   "metadata": {},
   "outputs": [],
   "source": [
    "df = pd.read_csv('yeallow_tripdata_2021-01.csv', nrows=100)"
   ]
  },
  {
   "cell_type": "code",
   "execution_count": null,
   "metadata": {},
   "outputs": [],
   "source": [
    "df.tpep_pickup_datetime = pd.to_datatime(df.tpep_pickup_datetime)\n",
    "df.tpep_dropoff_datetime = pd.to_datatime(df.tpep_dropoff_datetime)"
   ]
  },
  {
   "cell_type": "code",
   "execution_count": null,
   "metadata": {},
   "outputs": [],
   "source": [
    "engine.connect()"
   ]
  },
  {
   "cell_type": "code",
   "execution_count": null,
   "metadata": {},
   "outputs": [],
   "source": [
    "select *\n",
    "from pg_catalog.pg_tables\n",
    "where schemaname != 'pg_catalog' AND\n",
    "    schemaname != 'information_scheme';\n",
    "    "
   ]
  },
  {
   "cell_type": "code",
   "execution_count": null,
   "metadata": {},
   "outputs": [],
   "source": [
    "docker run -it \\\n",
    "    -e POSTGRES_USER=\"root\" \\\n",
    "    -e POSTGRES_PASSWORD=\"root\" \\\n",
    "    -e POSTGRES_DB=\"ny_taxi\" \\\n",
    "    -e PGDATA=/var/lib/postgresql/data/pgdata \\\n",
    "    -v $(pwd)/ny_taxi_postgres_data/:/var/lib/postgresql/data \\\n",
    "    -p 5432:5432 \\\n",
    "    --network=pg-network \\\n",
    "    --name pg-database2 \\\n",
    "    postgres:13\n",
    "\n",
    "\n",
    "docker run -it \\\n",
    "    -e PGADMIN_DEFAULT_EMAIL=\"admin@admin.com\" \\\n",
    "    -e PGADMIN_DEFAULT_PASSWORD=\"root\" \\\n",
    "    -p 8080:80 \\\n",
    "    --network=pg-network \\\n",
    "    --name pgadmin \\\n",
    "    dpage/pgadmin4"
   ]
  },
  {
   "cell_type": "code",
   "execution_count": null,
   "metadata": {},
   "outputs": [],
   "source": []
  }
 ],
 "metadata": {
  "language_info": {
   "name": "python"
  },
  "orig_nbformat": 4
 },
 "nbformat": 4,
 "nbformat_minor": 2
}
